{
  "cells": [
    {
      "metadata": {
        "_cell_guid": "82dc46ba-e33c-4255-b99a-60a0c4bdef76",
        "_uuid": "f21a0f08e129542d0f612ca492730b1270154514",
        "trusted": true
      },
      "cell_type": "code",
      "source": "# This Python 3 environment comes with many helpful analytics libraries installed\n# It is defined by the kaggle/python docker image: https://github.com/kaggle/docker-python\n# For example, here's several helpful packages to load in \n\nimport numpy as np # linear algebra\nimport pandas as pd # data processing, CSV file I/O (e.g. pd.read_csv)\nfrom sklearn.linear_model import LogisticRegression\nfrom sklearn.multiclass import OneVsRestClassifier\nfrom sklearn.feature_extraction.text import CountVectorizer\nfrom sklearn.feature_extraction.text import TfidfTransformer\nfrom sklearn.pipeline import Pipeline\nfrom scipy.sparse import hstack\nimport matplotlib.pyplot as plt \nfrom sklearn.neural_network import MLPClassifier\nfrom sklearn.model_selection import train_test_split\n\nfrom sklearn.metrics import accuracy_score\nfrom sklearn.metrics import roc_auc_score\n\nfrom keras.layers import Dense,Input,LSTM,Bidirectional,Activation,Conv1D,GRU\nfrom keras.callbacks import Callback\nfrom keras.layers import Dropout,Embedding,GlobalMaxPooling1D, MaxPooling1D, Add, Flatten\nfrom keras.preprocessing import text, sequence\nfrom keras.layers import GlobalAveragePooling1D, GlobalMaxPooling1D, concatenate, SpatialDropout1D\nfrom keras import initializers, regularizers, constraints, optimizers, layers, callbacks\nfrom keras.callbacks import EarlyStopping,ModelCheckpoint\nfrom keras.models import Model\nfrom keras.optimizers import Adam\nfrom keras.utils import to_categorical\n\n# Input data files are available in the \"../input/\" directory.\n# For example, running this (by clicking run or pressing Shift+Enter) will list the files in the input directory\n\nfrom subprocess import check_output\nprint(check_output([\"ls\", \"../input/\"]).decode(\"utf8\"))\n\n# Any results you write to the current directory are saved as output.",
      "execution_count": null,
      "outputs": []
    },
    {
      "metadata": {
        "_cell_guid": "07fe9fb0-4733-427f-adaa-5ea7584af641",
        "_uuid": "3f29270fad418259a91c79af9e873e972ad33b04",
        "trusted": true
      },
      "cell_type": "code",
      "source": "import chardet\nwith open('<Datafile>', 'rb') as f:\n    result = chardet.detect(f.read())  # or readline if the file is large\n\ntrain_df_org = pd.read_csv(\"<DataFile>\", encoding=result['encoding'])\ntrain_df_org = train_df_org.sample(frac=1).reset_index(drop=True)",
      "execution_count": null,
      "outputs": []
    },
    {
      "metadata": {
        "trusted": true,
        "_uuid": "81a8cd4f894aad980e6c10eca877a9c730f36f1c"
      },
      "cell_type": "code",
      "source": "EMBEDDING_FILE = '<DataFolder>/glove-840b-300d/glove.840B.300d.txt' \n\nembeddings_index = {}\nwith open(EMBEDDING_FILE, encoding='utf8') as f:\n    for line in f:\n        values = line.rstrip().rsplit(' ')\n        word = values[0]\n        coefs = np.asarray(values[1:], dtype='float32')\n        embeddings_index[word] = coefs\n",
      "execution_count": null,
      "outputs": []
    },
    {
      "metadata": {
        "trusted": true,
        "_uuid": "3528cc052dd09d36d43aef3170ef469408b414c7"
      },
      "cell_type": "code",
      "source": "\ndef processinput(train_df,catname = 'Area'):\n    train_df = train_df.dropna(subset=[catname])\n    train_df = train_df.reset_index(drop=True)\n    train_df[catname] = pd.Categorical(train_df[catname])\n    train_df['AreaCode'] = train_df[catname].cat.codes\n    train_df['DescSum'] = train_df['Summary'] + ' ' + train_df['Description']\n    train_ret = train_df[1000:]\n    val_ret = train_df[:1000]\n    return train_ret, val_ret \n\n\ndef processtokenizer(ycat = 'Area', xcat = 'DescSum'):\n    train_o, val_o  = processinput(train_df_org,catname = ycat)\n    train_text_data_o = train_o[xcat]\n    train_y_o = train_o['AreaCode']\n    AreaCategories_o = np.array(train_o[ycat].cat.categories)\n\n    train_y_bin_o = to_categorical(train_y_o)\n    numofcat_o = train_y_bin_o.shape[1]\n\n    if (xcat == 'DescSum'):\n        max_features_o=35000\n        maxlen_o=300\n        embed_size_o=300\n    elif xcat == 'Summary':\n        max_features_o=10000\n        maxlen_o=150\n        embed_size_o=300\n    elif xcat == 'Description':\n        max_features_o=30000\n        maxlen_o=250\n        embed_size_o=300\n    else:\n        max_features_o=10000\n        maxlen_o=150\n        embed_size_o=300\n\n    tokenizer_o = text.Tokenizer(num_words=max_features_o, lower=True)\n\n    tokenizer_o.fit_on_texts(list(train_text_data_o))\n\n    train_x_o = tokenizer_o.texts_to_sequences(train_text_data_o)\n\n    train_x_pad_o = sequence.pad_sequences(train_x_o, maxlen=maxlen_o)\n\n    return train_o, val_o, AreaCategories_o, train_x_pad_o, train_y_bin_o, numofcat_o, tokenizer_o,  max_features_o, maxlen_o, embed_size_o\n\ndef deepmodel(maxlen_o, embed_size_o, num_words_o, embedding_matrix_o, numofcat_o ):\n    inp = Input(shape=(maxlen_o,))\n    x = Embedding(num_words_o, embed_size_o, weights=[embedding_matrix_o], trainable=False)(inp)\n    x = SpatialDropout1D(0.10)(x)\n    x = Bidirectional(LSTM(128, return_sequences=True, dropout=0.10, recurrent_dropout=0.10))(x)\n    x = Conv1D(64, kernel_size=3, padding='valid', kernel_initializer='glorot_uniform')(x)\n    x = Conv1D(64, kernel_size=3, padding='valid', kernel_initializer='glorot_uniform')(x)\n    avg_pool = GlobalAveragePooling1D()(x)\n    max_pool = GlobalMaxPooling1D()(x)\n    x = concatenate([avg_pool, max_pool])\n    out = Dense(numofcat_o, activation='sigmoid')(x)\n    model = Model(inp, out)\n    model.compile(loss='binary_crossentropy', optimizer='adam', metrics=['accuracy'])\n    return model\n\ndef predictarea(txt_o,tokenizer_o, model_o,maxlen_o,val_df,noofcat_o):\n    txt_y = tokenizer_o.texts_to_sequences(txt_o)\n    txt_y_pad = sequence.pad_sequences(txt_y, maxlen=maxlen_o)\n    prediction = model_o.predict(txt_y_pad,batch_size=1,verbose=1)\n    y_val = val_df['AreaCode']\n    y_val_bin = to_categorical(y_val, num_classes=noofcat_o)\n    test_metrics = model_o.evaluate(x=txt_y_pad, y=y_val_bin, batch_size=10, verbose=1)\n    print(test_metrics)\n    return prediction\n\ndef predtodf(predictions,val_df, AreaCategories_o):\n    Pred_arg = np.argsort(predictions)[:,-3:]\n    Pred_arg_ar = [[x] for x in Pred_arg] \n    Pred_results = pd.DataFrame(Pred_arg_ar)\n    Pred_results['Prob'] = [predictions[i,[Pred_arg[i]]] for i in range(len(Pred_arg))]\n    Pred_results['cat'] = [AreaCategories_o[x] for x in Pred_arg]\n    Pred_results['Description'] = val_df['Description']\n    Pred_results['trueArea'] = val_df['Area']\n    Pred_results['trueSubArea'] = val_df['Sub Area']\n    Pred_results['truelabelcat'] = val_df['AreaCode'] \n    Pred_results['SR'] = val_df['SR #'] \n    Pred_results['Summary'] = val_df['Summary'] \n    return Pred_results\n\ndef trainandgetpred(ycat_o, xcat_o):\n    train, val, AreaCategories, train_x_pad, train_y_bin, numofcat, tokenizer, max_features, maxlen, embed_size = processtokenizer(ycat_o, xcat_o)\n    word_index = tokenizer.word_index\n    num_words = min(max_features, len(word_index) + 1)\n    embedding_matrix = np.zeros((num_words, embed_size))\n    for word, i in word_index.items():\n        if i >= max_features:\n            continue\n\n        embedding_vector = embeddings_index.get(word)\n        if embedding_vector is not None:\n            embedding_matrix[i] = embedding_vector\n\n    model = deepmodel(maxlen, embed_size, num_words, embedding_matrix, numofcat)\n    X_tra, X_val, y_tra, y_val = train_test_split(train_x_pad, train_y_bin, train_size=0.99, random_state=233)\n    model.fit(X_tra, y_tra, batch_size=10, epochs=5, validation_split=0.1, verbose=1)\n    txt = val[xcat_o]\n    predresults = predictarea(txt,tokenizer, model,maxlen,val,numofcat)\n    result_df = predtodf(predresults,val, AreaCategories)\n    return result_df\n\n",
      "execution_count": null,
      "outputs": []
    },
    {
      "metadata": {
        "trusted": true,
        "_uuid": "8f207a423814e8c5829c5434c1585b0714b6677e"
      },
      "cell_type": "code",
      "source": "Area_DescSum = trainandgetpred('Area', 'DescSum')\nArea_DescSum.to_csv('Area_DescSum.csv')\n",
      "execution_count": null,
      "outputs": []
    },
    {
      "metadata": {
        "trusted": true,
        "_uuid": "6a3215e9a84be616576eec308f4053cfdd083325"
      },
      "cell_type": "code",
      "source": "Area_Desc = trainandgetpred('Area', 'Description')\nArea_Desc.to_csv('Area_Desc.csv')",
      "execution_count": null,
      "outputs": []
    },
    {
      "metadata": {
        "trusted": true,
        "_uuid": "7942af4bff3f04b9c63543a46311dfd4906dedde"
      },
      "cell_type": "code",
      "source": "Area_Sum = trainandgetpred('Area', 'Summary')\nArea_Sum.to_csv('Area_Sum.csv')",
      "execution_count": null,
      "outputs": []
    },
    {
      "metadata": {
        "trusted": true,
        "_uuid": "cba254f104b0160ef40cd4e94f9a62898f56bff7"
      },
      "cell_type": "code",
      "source": "SArea_DescSum = trainandgetpred('Sub Area', 'DescSum')\nSArea_DescSum.to_csv('SArea_DescSum.csv')",
      "execution_count": null,
      "outputs": []
    },
    {
      "metadata": {
        "trusted": true,
        "_uuid": "7ac6a187117f7a6344777fcafcd18016866fe0d6"
      },
      "cell_type": "code",
      "source": "SArea_Desc = trainandgetpred('Sub Area', 'Description')\nSArea_Desc.to_csv('SArea_Desc.csv')",
      "execution_count": null,
      "outputs": []
    },
    {
      "metadata": {
        "trusted": true,
        "_uuid": "c5638f00af1db57e2dc4d009d001602f708f7cdc"
      },
      "cell_type": "code",
      "source": "SArea_Sum = trainandgetpred('Sub Area', 'Summary')\nSArea_Sum.to_csv('SArea_Sum.csv')",
      "execution_count": null,
      "outputs": []
    },
    {
      "metadata": {
        "trusted": true,
        "_uuid": "a38d171ba62a260e7b296847b76ceaad34a04a38"
      },
      "cell_type": "code",
      "source": "",
      "execution_count": null,
      "outputs": []
    }
  ],
  "metadata": {
    "kernelspec": {
      "display_name": "Python 3",
      "language": "python",
      "name": "python3"
    },
    "language_info": {
      "name": "python",
      "version": "3.6.6",
      "mimetype": "text/x-python",
      "codemirror_mode": {
        "name": "ipython",
        "version": 3
      },
      "pygments_lexer": "ipython3",
      "nbconvert_exporter": "python",
      "file_extension": ".py"
    }
  },
  "nbformat": 4,
  "nbformat_minor": 1
}
